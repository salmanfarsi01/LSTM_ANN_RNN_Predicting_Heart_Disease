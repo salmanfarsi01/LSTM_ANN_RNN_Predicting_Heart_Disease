{
 "cells": [
  {
   "cell_type": "code",
   "execution_count": 11,
   "id": "a13617a9-62e3-44cd-8a18-cf4c1cb5ff12",
   "metadata": {},
   "outputs": [],
   "source": [
    "# Importing necessary libraries\n",
    "\n",
    "# pandas: A powerful data manipulation library for loading and handling data in tabular format (DataFrames)\n",
    "import pandas as pd\n",
    "\n",
    "# numpy: A fundamental package for numerical computations, handling arrays and matrices, and performing mathematical operations\n",
    "import numpy as np\n",
    "\n",
    "# matplotlib.pyplot: A popular library for creating static, animated, and interactive visualizations (used for plotting graphs)\n",
    "import matplotlib.pyplot as plt\n",
    "\n",
    "# train_test_split: A function from sklearn to split the dataset into training and testing sets\n",
    "from sklearn.model_selection import train_test_split\n",
    "\n",
    "# StandardScaler: A tool from sklearn for scaling features to have a mean of 0 and a standard deviation of 1 (important for LSTM models)\n",
    "from sklearn.preprocessing import StandardScaler\n",
    "\n",
    "# accuracy_score: A metric from sklearn to calculate the accuracy of predictions made by the model\n",
    "from sklearn.metrics import accuracy_score\n",
    "\n",
    "# tensorflow: An open-source machine learning framework for building and training neural networks\n",
    "import tensorflow as tf\n",
    "\n",
    "# Sequential: A model type from TensorFlow's Keras API, allowing us to create models layer by layer (used for neural networks)\n",
    "from tensorflow.keras.models import Sequential\n",
    "\n",
    "# LSTM: A type of recurrent neural network (RNN) layer, specifically designed to learn from sequences and time series data\n",
    "from tensorflow.keras.layers import LSTM\n",
    "\n",
    "# Dense: A fully connected neural network layer, where each neuron in the layer is connected to every neuron in the previous layer\n",
    "from tensorflow.keras.layers import Dense\n",
    "\n",
    "# Dropout: A regularization technique to prevent overfitting by randomly \"dropping out\" (ignoring) a set of neurons during training\n",
    "from tensorflow.keras.layers import Dropout\n",
    "\n",
    "# to_categorical: A utility function to convert integer labels (e.g., 0 or 1) into one-hot encoded format (important for classification tasks)\n",
    "from tensorflow.keras.utils import to_categorical\n",
    "from tensorflow.keras.layers import Input\n"
   ]
  },
  {
   "cell_type": "code",
   "execution_count": 3,
   "id": "d18c65bc-d037-48a6-9909-8fcefc730291",
   "metadata": {},
   "outputs": [
    {
     "name": "stdout",
     "output_type": "stream",
     "text": [
      "   age  sex  cp  trestbps  chol  fbs  restecg  thalach  exang  oldpeak  slope  \\\n",
      "0   52    1   0       125   212    0        1      168      0      1.0      2   \n",
      "1   53    1   0       140   203    1        0      155      1      3.1      0   \n",
      "2   70    1   0       145   174    0        1      125      1      2.6      0   \n",
      "3   61    1   0       148   203    0        1      161      0      0.0      2   \n",
      "4   62    0   0       138   294    1        1      106      0      1.9      1   \n",
      "\n",
      "   ca  thal  target  \n",
      "0   2     3       0  \n",
      "1   0     3       0  \n",
      "2   0     3       0  \n",
      "3   1     3       0  \n",
      "4   3     2       0  \n"
     ]
    }
   ],
   "source": [
    "# Step 1: Load the dataset\n",
    "data = pd.read_csv(\"C:\\\\Users\\\\Local User\\\\Desktop\\\\python_2308\\\\data mining\\\\heart.csv\")\n",
    "\n",
    "# Step 2: Preprocessing the data\n",
    "# Checking the first few rows of the dataset to understand its structure\n",
    "print(data.head())"
   ]
  },
  {
   "cell_type": "code",
   "execution_count": 35,
   "id": "68da3f80-2091-48c0-ba0a-00e635e55149",
   "metadata": {},
   "outputs": [],
   "source": [
    "# Separating features (X) and target (y)\n",
    "# Assuming the target column is 'target' and indicates whether the patient has heart disease\n",
    "X = data.drop('target', axis=1)  # Dropping the target column to get features\n",
    "y = data['target']  # This is the target column"
   ]
  },
  {
   "cell_type": "code",
   "execution_count": 36,
   "id": "de25f3fc-28d3-4b2e-9cfd-a3af40d50540",
   "metadata": {},
   "outputs": [],
   "source": [
    "# Step 3: Train-test split\n",
    "# Split the data into 80% training and 20% testing\n",
    "X_train, X_test, y_train, y_test = train_test_split(X, y, test_size=0.2, random_state=42)"
   ]
  },
  {
   "cell_type": "code",
   "execution_count": 37,
   "id": "2ff9d24f-1170-4eb3-82f3-adbce66b4bd4",
   "metadata": {},
   "outputs": [],
   "source": [
    "# Step 4: Feature scaling (normalization)\n",
    "# Scaling the features to a standard range\n",
    "scaler = StandardScaler()\n",
    "X_train_scaled = scaler.fit_transform(X_train)\n",
    "X_test_scaled = scaler.transform(X_test)\n"
   ]
  },
  {
   "cell_type": "code",
   "execution_count": 38,
   "id": "2b4acf7c-3a0a-4668-b383-241c557e2b28",
   "metadata": {},
   "outputs": [],
   "source": [
    "# Reshaping data to be compatible with LSTM input [samples, time steps, features]\n",
    "# Here we set time steps as 1 since we are not using sequential data\n",
    "X_train_scaled = X_train_scaled.reshape((X_train_scaled.shape[0], 1, X_train_scaled.shape[1]))\n",
    "X_test_scaled = X_test_scaled.reshape((X_test_scaled.shape[0], 1, X_test_scaled.shape[1]))\n"
   ]
  },
  {
   "cell_type": "code",
   "execution_count": 39,
   "id": "43428d53-cb09-413f-817a-cc6140e51ebf",
   "metadata": {},
   "outputs": [],
   "source": [
    "# Step 5: Convert target to categorical (for classification)\n",
    "y_train_cat = to_categorical(y_train, num_classes=2)\n",
    "y_test_cat = to_categorical(y_test, num_classes=2)"
   ]
  },
  {
   "cell_type": "code",
   "execution_count": 43,
   "id": "663ce7a2-7bc9-4bf7-b39c-f0d658ddbcd5",
   "metadata": {},
   "outputs": [],
   "source": [
    "# Step 6: Building the LSTM model\n",
    "model = Sequential()"
   ]
  },
  {
   "cell_type": "code",
   "execution_count": 44,
   "id": "dd31a5ff-daca-4cad-90db-39ecc9c2d72d",
   "metadata": {},
   "outputs": [],
   "source": [
    "# Adding an LSTM layer with 100 units, input shape is (time steps, features)\n",
    "# Since time steps = 1 and features = 13 (depending on your dataset), this specifies the input shape.\n",
    "model.add(LSTM(100, input_shape=(X_train_scaled.shape[1], X_train_scaled.shape[2])))"
   ]
  },
  {
   "cell_type": "code",
   "execution_count": 45,
   "id": "4843c2cc-8fbb-4474-be3c-de067040c832",
   "metadata": {},
   "outputs": [],
   "source": [
    "# Adding a dropout layer to prevent overfitting\n",
    "model.add(Dropout(0.2))"
   ]
  },
  {
   "cell_type": "code",
   "execution_count": 46,
   "id": "7212ea46-57cb-4e27-b7c5-af45129d1d8a",
   "metadata": {},
   "outputs": [],
   "source": [
    "# Adding a Dense output layer with 2 units (since we have two classes) and softmax activation\n",
    "model.add(Dense(2, activation='softmax'))"
   ]
  },
  {
   "cell_type": "code",
   "execution_count": 47,
   "id": "8923a7cd-914e-4a01-a55d-e9efe93bed15",
   "metadata": {},
   "outputs": [],
   "source": [
    "# Step 7: Compile the model\n",
    "# Using categorical crossentropy for a multi-class classification problem\n",
    "# Optimizer: Adam, which is generally good for LSTM models\n",
    "model.compile(loss='categorical_crossentropy', optimizer='adam', metrics=['accuracy'])"
   ]
  },
  {
   "cell_type": "code",
   "execution_count": 48,
   "id": "3ab6fb61-dc01-4086-ba38-fd17bd911b7e",
   "metadata": {},
   "outputs": [
    {
     "name": "stdout",
     "output_type": "stream",
     "text": [
      "Epoch 1/50\n",
      "\u001b[1m26/26\u001b[0m \u001b[32m━━━━━━━━━━━━━━━━━━━━\u001b[0m\u001b[37m\u001b[0m \u001b[1m4s\u001b[0m 33ms/step - accuracy: 0.7266 - loss: 0.6403 - val_accuracy: 0.7659 - val_loss: 0.5378\n",
      "Epoch 2/50\n",
      "\u001b[1m26/26\u001b[0m \u001b[32m━━━━━━━━━━━━━━━━━━━━\u001b[0m\u001b[37m\u001b[0m \u001b[1m0s\u001b[0m 6ms/step - accuracy: 0.8452 - loss: 0.4833 - val_accuracy: 0.7854 - val_loss: 0.4559\n",
      "Epoch 3/50\n",
      "\u001b[1m26/26\u001b[0m \u001b[32m━━━━━━━━━━━━━━━━━━━━\u001b[0m\u001b[37m\u001b[0m \u001b[1m0s\u001b[0m 6ms/step - accuracy: 0.8370 - loss: 0.3990 - val_accuracy: 0.8000 - val_loss: 0.4238\n",
      "Epoch 4/50\n",
      "\u001b[1m26/26\u001b[0m \u001b[32m━━━━━━━━━━━━━━━━━━━━\u001b[0m\u001b[37m\u001b[0m \u001b[1m0s\u001b[0m 6ms/step - accuracy: 0.8471 - loss: 0.3626 - val_accuracy: 0.8049 - val_loss: 0.4166\n",
      "Epoch 5/50\n",
      "\u001b[1m26/26\u001b[0m \u001b[32m━━━━━━━━━━━━━━━━━━━━\u001b[0m\u001b[37m\u001b[0m \u001b[1m0s\u001b[0m 6ms/step - accuracy: 0.8689 - loss: 0.3385 - val_accuracy: 0.8049 - val_loss: 0.4162\n",
      "Epoch 6/50\n",
      "\u001b[1m26/26\u001b[0m \u001b[32m━━━━━━━━━━━━━━━━━━━━\u001b[0m\u001b[37m\u001b[0m \u001b[1m0s\u001b[0m 5ms/step - accuracy: 0.8729 - loss: 0.3339 - val_accuracy: 0.8098 - val_loss: 0.4110\n",
      "Epoch 7/50\n",
      "\u001b[1m26/26\u001b[0m \u001b[32m━━━━━━━━━━━━━━━━━━━━\u001b[0m\u001b[37m\u001b[0m \u001b[1m0s\u001b[0m 5ms/step - accuracy: 0.8863 - loss: 0.3061 - val_accuracy: 0.8000 - val_loss: 0.4125\n",
      "Epoch 8/50\n",
      "\u001b[1m26/26\u001b[0m \u001b[32m━━━━━━━━━━━━━━━━━━━━\u001b[0m\u001b[37m\u001b[0m \u001b[1m0s\u001b[0m 6ms/step - accuracy: 0.8962 - loss: 0.2758 - val_accuracy: 0.8049 - val_loss: 0.4088\n",
      "Epoch 9/50\n",
      "\u001b[1m26/26\u001b[0m \u001b[32m━━━━━━━━━━━━━━━━━━━━\u001b[0m\u001b[37m\u001b[0m \u001b[1m0s\u001b[0m 7ms/step - accuracy: 0.8918 - loss: 0.2927 - val_accuracy: 0.8049 - val_loss: 0.4058\n",
      "Epoch 10/50\n",
      "\u001b[1m26/26\u001b[0m \u001b[32m━━━━━━━━━━━━━━━━━━━━\u001b[0m\u001b[37m\u001b[0m \u001b[1m0s\u001b[0m 7ms/step - accuracy: 0.8993 - loss: 0.2844 - val_accuracy: 0.8049 - val_loss: 0.4019\n",
      "Epoch 11/50\n",
      "\u001b[1m26/26\u001b[0m \u001b[32m━━━━━━━━━━━━━━━━━━━━\u001b[0m\u001b[37m\u001b[0m \u001b[1m0s\u001b[0m 8ms/step - accuracy: 0.8954 - loss: 0.2878 - val_accuracy: 0.8146 - val_loss: 0.3994\n",
      "Epoch 12/50\n",
      "\u001b[1m26/26\u001b[0m \u001b[32m━━━━━━━━━━━━━━━━━━━━\u001b[0m\u001b[37m\u001b[0m \u001b[1m0s\u001b[0m 7ms/step - accuracy: 0.9024 - loss: 0.2888 - val_accuracy: 0.8195 - val_loss: 0.3916\n",
      "Epoch 13/50\n",
      "\u001b[1m26/26\u001b[0m \u001b[32m━━━━━━━━━━━━━━━━━━━━\u001b[0m\u001b[37m\u001b[0m \u001b[1m0s\u001b[0m 5ms/step - accuracy: 0.8914 - loss: 0.2962 - val_accuracy: 0.8098 - val_loss: 0.3874\n",
      "Epoch 14/50\n",
      "\u001b[1m26/26\u001b[0m \u001b[32m━━━━━━━━━━━━━━━━━━━━\u001b[0m\u001b[37m\u001b[0m \u001b[1m0s\u001b[0m 7ms/step - accuracy: 0.8899 - loss: 0.2897 - val_accuracy: 0.8341 - val_loss: 0.3843\n",
      "Epoch 15/50\n",
      "\u001b[1m26/26\u001b[0m \u001b[32m━━━━━━━━━━━━━━━━━━━━\u001b[0m\u001b[37m\u001b[0m \u001b[1m0s\u001b[0m 8ms/step - accuracy: 0.8764 - loss: 0.2899 - val_accuracy: 0.8293 - val_loss: 0.3767\n",
      "Epoch 16/50\n",
      "\u001b[1m26/26\u001b[0m \u001b[32m━━━━━━━━━━━━━━━━━━━━\u001b[0m\u001b[37m\u001b[0m \u001b[1m0s\u001b[0m 12ms/step - accuracy: 0.9037 - loss: 0.2608 - val_accuracy: 0.8341 - val_loss: 0.3758\n",
      "Epoch 17/50\n",
      "\u001b[1m26/26\u001b[0m \u001b[32m━━━━━━━━━━━━━━━━━━━━\u001b[0m\u001b[37m\u001b[0m \u001b[1m0s\u001b[0m 6ms/step - accuracy: 0.9130 - loss: 0.2587 - val_accuracy: 0.8488 - val_loss: 0.3664\n",
      "Epoch 18/50\n",
      "\u001b[1m26/26\u001b[0m \u001b[32m━━━━━━━━━━━━━━━━━━━━\u001b[0m\u001b[37m\u001b[0m \u001b[1m0s\u001b[0m 7ms/step - accuracy: 0.9059 - loss: 0.2633 - val_accuracy: 0.8390 - val_loss: 0.3626\n",
      "Epoch 19/50\n",
      "\u001b[1m26/26\u001b[0m \u001b[32m━━━━━━━━━━━━━━━━━━━━\u001b[0m\u001b[37m\u001b[0m \u001b[1m0s\u001b[0m 7ms/step - accuracy: 0.9266 - loss: 0.2328 - val_accuracy: 0.8537 - val_loss: 0.3561\n",
      "Epoch 20/50\n",
      "\u001b[1m26/26\u001b[0m \u001b[32m━━━━━━━━━━━━━━━━━━━━\u001b[0m\u001b[37m\u001b[0m \u001b[1m0s\u001b[0m 8ms/step - accuracy: 0.9236 - loss: 0.2349 - val_accuracy: 0.8439 - val_loss: 0.3512\n",
      "Epoch 21/50\n",
      "\u001b[1m26/26\u001b[0m \u001b[32m━━━━━━━━━━━━━━━━━━━━\u001b[0m\u001b[37m\u001b[0m \u001b[1m0s\u001b[0m 8ms/step - accuracy: 0.9242 - loss: 0.2286 - val_accuracy: 0.8439 - val_loss: 0.3425\n",
      "Epoch 22/50\n",
      "\u001b[1m26/26\u001b[0m \u001b[32m━━━━━━━━━━━━━━━━━━━━\u001b[0m\u001b[37m\u001b[0m \u001b[1m0s\u001b[0m 8ms/step - accuracy: 0.9227 - loss: 0.2210 - val_accuracy: 0.8390 - val_loss: 0.3364\n",
      "Epoch 23/50\n",
      "\u001b[1m26/26\u001b[0m \u001b[32m━━━━━━━━━━━━━━━━━━━━\u001b[0m\u001b[37m\u001b[0m \u001b[1m0s\u001b[0m 6ms/step - accuracy: 0.9169 - loss: 0.2199 - val_accuracy: 0.8634 - val_loss: 0.3284\n",
      "Epoch 24/50\n",
      "\u001b[1m26/26\u001b[0m \u001b[32m━━━━━━━━━━━━━━━━━━━━\u001b[0m\u001b[37m\u001b[0m \u001b[1m0s\u001b[0m 6ms/step - accuracy: 0.9316 - loss: 0.2057 - val_accuracy: 0.8439 - val_loss: 0.3270\n",
      "Epoch 25/50\n",
      "\u001b[1m26/26\u001b[0m \u001b[32m━━━━━━━━━━━━━━━━━━━━\u001b[0m\u001b[37m\u001b[0m \u001b[1m0s\u001b[0m 8ms/step - accuracy: 0.9242 - loss: 0.2252 - val_accuracy: 0.8634 - val_loss: 0.3190\n",
      "Epoch 26/50\n",
      "\u001b[1m26/26\u001b[0m \u001b[32m━━━━━━━━━━━━━━━━━━━━\u001b[0m\u001b[37m\u001b[0m \u001b[1m0s\u001b[0m 5ms/step - accuracy: 0.9277 - loss: 0.2080 - val_accuracy: 0.8634 - val_loss: 0.3150\n",
      "Epoch 27/50\n",
      "\u001b[1m26/26\u001b[0m \u001b[32m━━━━━━━━━━━━━━━━━━━━\u001b[0m\u001b[37m\u001b[0m \u001b[1m0s\u001b[0m 8ms/step - accuracy: 0.9386 - loss: 0.2032 - val_accuracy: 0.8683 - val_loss: 0.3080\n",
      "Epoch 28/50\n",
      "\u001b[1m26/26\u001b[0m \u001b[32m━━━━━━━━━━━━━━━━━━━━\u001b[0m\u001b[37m\u001b[0m \u001b[1m0s\u001b[0m 5ms/step - accuracy: 0.9303 - loss: 0.2044 - val_accuracy: 0.8732 - val_loss: 0.3033\n",
      "Epoch 29/50\n",
      "\u001b[1m26/26\u001b[0m \u001b[32m━━━━━━━━━━━━━━━━━━━━\u001b[0m\u001b[37m\u001b[0m \u001b[1m0s\u001b[0m 6ms/step - accuracy: 0.9367 - loss: 0.1782 - val_accuracy: 0.8732 - val_loss: 0.2982\n",
      "Epoch 30/50\n",
      "\u001b[1m26/26\u001b[0m \u001b[32m━━━━━━━━━━━━━━━━━━━━\u001b[0m\u001b[37m\u001b[0m \u001b[1m0s\u001b[0m 6ms/step - accuracy: 0.9414 - loss: 0.1869 - val_accuracy: 0.8683 - val_loss: 0.2926\n",
      "Epoch 31/50\n",
      "\u001b[1m26/26\u001b[0m \u001b[32m━━━━━━━━━━━━━━━━━━━━\u001b[0m\u001b[37m\u001b[0m \u001b[1m0s\u001b[0m 11ms/step - accuracy: 0.9309 - loss: 0.2073 - val_accuracy: 0.8732 - val_loss: 0.2888\n",
      "Epoch 32/50\n",
      "\u001b[1m26/26\u001b[0m \u001b[32m━━━━━━━━━━━━━━━━━━━━\u001b[0m\u001b[37m\u001b[0m \u001b[1m0s\u001b[0m 6ms/step - accuracy: 0.9323 - loss: 0.1712 - val_accuracy: 0.8585 - val_loss: 0.2849\n",
      "Epoch 33/50\n",
      "\u001b[1m26/26\u001b[0m \u001b[32m━━━━━━━━━━━━━━━━━━━━\u001b[0m\u001b[37m\u001b[0m \u001b[1m0s\u001b[0m 7ms/step - accuracy: 0.9258 - loss: 0.2083 - val_accuracy: 0.8683 - val_loss: 0.2778\n",
      "Epoch 34/50\n",
      "\u001b[1m26/26\u001b[0m \u001b[32m━━━━━━━━━━━━━━━━━━━━\u001b[0m\u001b[37m\u001b[0m \u001b[1m0s\u001b[0m 6ms/step - accuracy: 0.9300 - loss: 0.1838 - val_accuracy: 0.8683 - val_loss: 0.2766\n",
      "Epoch 35/50\n",
      "\u001b[1m26/26\u001b[0m \u001b[32m━━━━━━━━━━━━━━━━━━━━\u001b[0m\u001b[37m\u001b[0m \u001b[1m0s\u001b[0m 6ms/step - accuracy: 0.9444 - loss: 0.1609 - val_accuracy: 0.8683 - val_loss: 0.2725\n",
      "Epoch 36/50\n",
      "\u001b[1m26/26\u001b[0m \u001b[32m━━━━━━━━━━━━━━━━━━━━\u001b[0m\u001b[37m\u001b[0m \u001b[1m0s\u001b[0m 6ms/step - accuracy: 0.9372 - loss: 0.1680 - val_accuracy: 0.8585 - val_loss: 0.2669\n",
      "Epoch 37/50\n",
      "\u001b[1m26/26\u001b[0m \u001b[32m━━━━━━━━━━━━━━━━━━━━\u001b[0m\u001b[37m\u001b[0m \u001b[1m0s\u001b[0m 5ms/step - accuracy: 0.9392 - loss: 0.1778 - val_accuracy: 0.8683 - val_loss: 0.2597\n",
      "Epoch 38/50\n",
      "\u001b[1m26/26\u001b[0m \u001b[32m━━━━━━━━━━━━━━━━━━━━\u001b[0m\u001b[37m\u001b[0m \u001b[1m0s\u001b[0m 6ms/step - accuracy: 0.9507 - loss: 0.1411 - val_accuracy: 0.8683 - val_loss: 0.2612\n",
      "Epoch 39/50\n",
      "\u001b[1m26/26\u001b[0m \u001b[32m━━━━━━━━━━━━━━━━━━━━\u001b[0m\u001b[37m\u001b[0m \u001b[1m0s\u001b[0m 5ms/step - accuracy: 0.9426 - loss: 0.1614 - val_accuracy: 0.8878 - val_loss: 0.2544\n",
      "Epoch 40/50\n",
      "\u001b[1m26/26\u001b[0m \u001b[32m━━━━━━━━━━━━━━━━━━━━\u001b[0m\u001b[37m\u001b[0m \u001b[1m0s\u001b[0m 7ms/step - accuracy: 0.9435 - loss: 0.1389 - val_accuracy: 0.8683 - val_loss: 0.2536\n",
      "Epoch 41/50\n",
      "\u001b[1m26/26\u001b[0m \u001b[32m━━━━━━━━━━━━━━━━━━━━\u001b[0m\u001b[37m\u001b[0m \u001b[1m0s\u001b[0m 6ms/step - accuracy: 0.9588 - loss: 0.1537 - val_accuracy: 0.8878 - val_loss: 0.2457\n",
      "Epoch 42/50\n",
      "\u001b[1m26/26\u001b[0m \u001b[32m━━━━━━━━━━━━━━━━━━━━\u001b[0m\u001b[37m\u001b[0m \u001b[1m0s\u001b[0m 6ms/step - accuracy: 0.9540 - loss: 0.1469 - val_accuracy: 0.9024 - val_loss: 0.2430\n",
      "Epoch 43/50\n",
      "\u001b[1m26/26\u001b[0m \u001b[32m━━━━━━━━━━━━━━━━━━━━\u001b[0m\u001b[37m\u001b[0m \u001b[1m0s\u001b[0m 7ms/step - accuracy: 0.9645 - loss: 0.1314 - val_accuracy: 0.8976 - val_loss: 0.2386\n",
      "Epoch 44/50\n",
      "\u001b[1m26/26\u001b[0m \u001b[32m━━━━━━━━━━━━━━━━━━━━\u001b[0m\u001b[37m\u001b[0m \u001b[1m0s\u001b[0m 6ms/step - accuracy: 0.9337 - loss: 0.1558 - val_accuracy: 0.8878 - val_loss: 0.2409\n",
      "Epoch 45/50\n",
      "\u001b[1m26/26\u001b[0m \u001b[32m━━━━━━━━━━━━━━━━━━━━\u001b[0m\u001b[37m\u001b[0m \u001b[1m0s\u001b[0m 6ms/step - accuracy: 0.9561 - loss: 0.1368 - val_accuracy: 0.8976 - val_loss: 0.2356\n",
      "Epoch 46/50\n",
      "\u001b[1m26/26\u001b[0m \u001b[32m━━━━━━━━━━━━━━━━━━━━\u001b[0m\u001b[37m\u001b[0m \u001b[1m0s\u001b[0m 6ms/step - accuracy: 0.9565 - loss: 0.1262 - val_accuracy: 0.8976 - val_loss: 0.2341\n",
      "Epoch 47/50\n",
      "\u001b[1m26/26\u001b[0m \u001b[32m━━━━━━━━━━━━━━━━━━━━\u001b[0m\u001b[37m\u001b[0m \u001b[1m0s\u001b[0m 6ms/step - accuracy: 0.9694 - loss: 0.1222 - val_accuracy: 0.8976 - val_loss: 0.2313\n",
      "Epoch 48/50\n",
      "\u001b[1m26/26\u001b[0m \u001b[32m━━━━━━━━━━━━━━━━━━━━\u001b[0m\u001b[37m\u001b[0m \u001b[1m0s\u001b[0m 5ms/step - accuracy: 0.9559 - loss: 0.1309 - val_accuracy: 0.8976 - val_loss: 0.2247\n",
      "Epoch 49/50\n",
      "\u001b[1m26/26\u001b[0m \u001b[32m━━━━━━━━━━━━━━━━━━━━\u001b[0m\u001b[37m\u001b[0m \u001b[1m0s\u001b[0m 5ms/step - accuracy: 0.9581 - loss: 0.1258 - val_accuracy: 0.8976 - val_loss: 0.2267\n",
      "Epoch 50/50\n",
      "\u001b[1m26/26\u001b[0m \u001b[32m━━━━━━━━━━━━━━━━━━━━\u001b[0m\u001b[37m\u001b[0m \u001b[1m0s\u001b[0m 5ms/step - accuracy: 0.9735 - loss: 0.1083 - val_accuracy: 0.8976 - val_loss: 0.2227\n"
     ]
    }
   ],
   "source": [
    "# Step 8: Train the model\n",
    "# Training for 50 epochs and a batch size of 32\n",
    "history = model.fit(X_train_scaled, y_train_cat, epochs=50, batch_size=32, validation_data=(X_test_scaled, y_test_cat))"
   ]
  },
  {
   "cell_type": "code",
   "execution_count": 49,
   "id": "a3e28602-7db9-48dd-822e-23bf172c4e21",
   "metadata": {},
   "outputs": [
    {
     "name": "stdout",
     "output_type": "stream",
     "text": [
      "\u001b[1m7/7\u001b[0m \u001b[32m━━━━━━━━━━━━━━━━━━━━\u001b[0m\u001b[37m\u001b[0m \u001b[1m0s\u001b[0m 3ms/step - accuracy: 0.8905 - loss: 0.2410 \n",
      "Test Accuracy: 89.76%\n"
     ]
    }
   ],
   "source": [
    "# Step 9: Evaluate the model on test data\n",
    "test_loss, test_accuracy = model.evaluate(X_test_scaled, y_test_cat)\n",
    "print(f\"Test Accuracy: {test_accuracy*100:.2f}%\")"
   ]
  },
  {
   "cell_type": "code",
   "execution_count": 50,
   "id": "8cd59b48-d683-4766-8c70-42aca2bef623",
   "metadata": {},
   "outputs": [
    {
     "data": {
      "image/png": "[encoded data removed]",
      "text/plain": [
       "<Figure size 640x480 with 1 Axes>"
      ]
     },
     "metadata": {},
     "output_type": "display_data"
    }
   ],
   "source": [
    "# Step 10: Plotting accuracy curves\n",
    "plt.plot(history.history['accuracy'], label='Train Accuracy')\n",
    "plt.plot(history.history['val_accuracy'], label='Test Accuracy')\n",
    "plt.title('Accuracy over Epochs')\n",
    "plt.xlabel('Epochs')\n",
    "plt.ylabel('Accuracy')\n",
    "plt.legend()\n",
    "plt.show()"
   ]
  },
  {
   "cell_type": "code",
   "execution_count": 27,
   "id": "1272450b-0490-4825-a066-1503e892663e",
   "metadata": {},
   "outputs": [
    {
     "name": "stdin",
     "output_type": "stream",
     "text": [
      "Enter age:  65\n",
      "Enter sex (1 = male, 0 = female):  1\n",
      "Enter chest pain type (0-3):  1\n",
      "Enter resting blood pressure (in mm Hg):  110\n",
      "Enter serum cholesterol in mg/dl:  203\n",
      "Enter fasting blood sugar > 120 mg/dl (1 = true, 0 = false):  1\n",
      "Enter resting electrocardiographic results (0-2):  0\n",
      "Enter maximum heart rate achieved:  1\n",
      "Enter exercise induced angina (1 = yes, 0 = no):  1\n",
      "Enter ST depression induced by exercise relative to rest:  3.1\n",
      "Enter slope of the peak exercise ST segment (0-2):  1\n",
      "Enter number of major vessels (0-3) colored by fluoroscopy:  0\n",
      "Enter thalassemia (3 = normal, 6 = fixed defect, 7 = reversible defect):  3\n"
     ]
    },
    {
     "name": "stdout",
     "output_type": "stream",
     "text": [
      "\u001b[1m1/1\u001b[0m \u001b[32m━━━━━━━━━━━━━━━━━━━━\u001b[0m\u001b[37m\u001b[0m \u001b[1m0s\u001b[0m 21ms/step\n",
      "Prediction: No Heart Disease\n"
     ]
    },
    {
     "name": "stderr",
     "output_type": "stream",
     "text": [
      "C:\\Users\\Local User\\desktop\\python_2308\\my_venv\\Lib\\site-packages\\sklearn\\base.py:493: UserWarning: X does not have valid feature names, but StandardScaler was fitted with feature names\n",
      "  warnings.warn(\n"
     ]
    }
   ],
   "source": [
    "# After training the model, use this part to take dynamic user input\n",
    "def predict_heart_disease(age, sex, cp, trestbps, chol, fbs, restecg, thalach, exang, oldpeak, slope, ca, thal):\n",
    "    # Create an input array based on the values provided\n",
    "    new_input = np.array([[age, sex, cp, trestbps, chol, fbs, restecg, thalach, exang, oldpeak, slope, ca, thal]])\n",
    "\n",
    "    # Step 1: Scale the new input using the same scaler used on the training data\n",
    "    new_input_scaled = scaler.transform(new_input)\n",
    "\n",
    "    # Step 2: Reshape the input to match the LSTM's expected input shape (samples, time steps, features)\n",
    "    new_input_scaled = new_input_scaled.reshape((new_input_scaled.shape[0], 1, new_input_scaled.shape[1]))\n",
    "\n",
    "    # Step 3: Use the model to predict the outcome\n",
    "    prediction = model.predict(new_input_scaled)\n",
    "\n",
    "    # Step 4: Get the predicted class (0 or 1) by choosing the class with the highest probability\n",
    "    predicted_class = np.argmax(prediction, axis=1)\n",
    "\n",
    "    # Print the result\n",
    "    if predicted_class[0] == 0:\n",
    "        return \"Prediction: No Heart Disease\"\n",
    "    else:\n",
    "        return \"Prediction: Heart Disease\"\n",
    "\n",
    "# Step 7: Taking user input\n",
    "age = float(input(\"Enter age: \"))\n",
    "sex = int(input(\"Enter sex (1 = male, 0 = female): \"))\n",
    "cp = int(input(\"Enter chest pain type (0-3): \"))\n",
    "trestbps = float(input(\"Enter resting blood pressure (in mm Hg): \"))\n",
    "chol = float(input(\"Enter serum cholesterol in mg/dl: \"))\n",
    "fbs = int(input(\"Enter fasting blood sugar > 120 mg/dl (1 = true, 0 = false): \"))\n",
    "restecg = int(input(\"Enter resting electrocardiographic results (0-2): \"))\n",
    "thalach = float(input(\"Enter maximum heart rate achieved: \"))\n",
    "exang = int(input(\"Enter exercise induced angina (1 = yes, 0 = no): \"))\n",
    "oldpeak = float(input(\"Enter ST depression induced by exercise relative to rest: \"))\n",
    "slope = int(input(\"Enter slope of the peak exercise ST segment (0-2): \"))\n",
    "ca = int(input(\"Enter number of major vessels (0-3) colored by fluoroscopy: \"))\n",
    "thal = int(input(\"Enter thalassemia (3 = normal, 6 = fixed defect, 7 = reversible defect): \"))\n",
    "\n",
    "# Call the prediction function with user input\n",
    "result = predict_heart_disease(age, sex, cp, trestbps, chol, fbs, restecg, thalach, exang, oldpeak, slope, ca, thal)\n",
    "print(result)\n"
   ]
  },
  {
   "cell_type": "code",
   "execution_count": null,
   "id": "417f81c0-a03d-4178-be35-dc7e35a9119d",
   "metadata": {},
   "outputs": [],
   "source": []
  }
 ],
 "metadata": {
  "kernelspec": {
   "display_name": "ML-KERNEL",
   "language": "python",
   "name": "ml-kernel"
  },
  "language_info": {
   "codemirror_mode": {
    "name": "ipython",
    "version": 3
   },
   "file_extension": ".py",
   "mimetype": "text/x-python",
   "name": "python",
   "nbconvert_exporter": "python",
   "pygments_lexer": "ipython3",
   "version": "3.12.4"
  }
 },
 "nbformat": 4,
 "nbformat_minor": 5
}
